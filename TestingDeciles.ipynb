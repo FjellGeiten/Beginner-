{
 "cells": [
  {
   "cell_type": "code",
   "execution_count": 1,
   "metadata": {},
   "outputs": [
    {
     "name": "stdout",
     "output_type": "stream",
     "text": [
      "SMB (Small Minus Big): -2431.3199999999997\n",
      "QUAL (High Minus Low Quality): 5.27217939758931\n",
      "CMH (Cold Minus Hot): -4261.460000000001\n",
      "     Stock  MarketCap       ROE  DebtToEquity  RevenueGrowth   ADV  \\\n",
      "0  Stock_1        910  0.131296      1.353970       0.015032  7664   \n",
      "1  Stock_2       3822  0.232402      1.652722       0.075184  9367   \n",
      "2  Stock_3       3142  0.209389      1.154882       0.085970  6488   \n",
      "3  Stock_4        516  0.271803      1.106336       0.050116  3004   \n",
      "4  Stock_5       4476  0.168054      0.559519       0.092717  3467   \n",
      "\n",
      "   QualityScore  SizeDecile  QualityDecile  LiquidityDecile  \n",
      "0     -2.330239           2              2                8  \n",
      "1     -0.003754           8              5               10  \n",
      "2      0.856937           7              7                7  \n",
      "3      0.931374           2              7                2  \n",
      "4      1.543976           9              8                3  \n"
     ]
    }
   ],
   "source": [
    "import pandas as pd\n",
    "import numpy as np\n",
    "\n",
    "# Simulert datasett\n",
    "np.random.seed(42)\n",
    "data = pd.DataFrame({\n",
    "    'Stock': [f'Stock_{i}' for i in range(1, 101)],  # 100 aksjer\n",
    "    'MarketCap': np.random.randint(50, 5000, 100),  # Markedsverdi (mill NOK)\n",
    "    'ROE': np.random.uniform(0.05, 0.30, 100),  # Return on Equity\n",
    "    'DebtToEquity': np.random.uniform(0.1, 2.0, 100),  # Gjeldsgrad\n",
    "    'RevenueGrowth': np.random.uniform(0.01, 0.15, 100),  # Inntektsvekst\n",
    "    'ADV': np.random.randint(500, 10000, 100)  # Daglig handelsvolum (kroner)\n",
    "})\n",
    "\n",
    "# Beregner en kvalitetsfaktor som kombinerer ROE, gjeldsgrad og inntektsvekst\n",
    "data['QualityScore'] = (data['ROE'] - data['ROE'].mean()) / data['ROE'].std() \\\n",
    "                     + (-data['DebtToEquity'] - (-data['DebtToEquity']).mean()) / data['DebtToEquity'].std() \\\n",
    "                     + (data['RevenueGrowth'] - data['RevenueGrowth'].mean()) / data['RevenueGrowth'].std()\n",
    "\n",
    "# Sortering i deciler\n",
    "data['SizeDecile'] = pd.qcut(data['MarketCap'], 10, labels=False) + 1\n",
    "data['QualityDecile'] = pd.qcut(data['QualityScore'], 10, labels=False) + 1\n",
    "data['LiquidityDecile'] = pd.qcut(data['ADV'], 10, labels=False) + 1\n",
    "\n",
    "# Beregn SMB (Small Minus Big)\n",
    "small = data[data['SizeDecile'] <= 5]['MarketCap'].mean()\n",
    "big = data[data['SizeDecile'] > 5]['MarketCap'].mean()\n",
    "smb = small - big\n",
    "\n",
    "# Beregn QUAL (High Minus Low Quality)\n",
    "high_quality = data[data['QualityDecile'] >= 9]['QualityScore'].mean()\n",
    "low_quality = data[data['QualityDecile'] <= 2]['QualityScore'].mean()\n",
    "qual = high_quality - low_quality\n",
    "\n",
    "# Beregn CMH (Cold Minus Hot)\n",
    "cold = data[data['LiquidityDecile'] <= 5]['ADV'].mean()\n",
    "hot = data[data['LiquidityDecile'] > 5]['ADV'].mean()\n",
    "cmh = cold - hot\n",
    "\n",
    "# Resultater\n",
    "print(\"SMB (Small Minus Big):\", smb)\n",
    "print(\"QUAL (High Minus Low Quality):\", qual)\n",
    "print(\"CMH (Cold Minus Hot):\", cmh)\n",
    "\n",
    "# Visualisering av datasettet\n",
    "print(data.head())\n"
   ]
  }
 ],
 "metadata": {
  "kernelspec": {
   "display_name": "Python 3",
   "language": "python",
   "name": "python3"
  },
  "language_info": {
   "codemirror_mode": {
    "name": "ipython",
    "version": 3
   },
   "file_extension": ".py",
   "mimetype": "text/x-python",
   "name": "python",
   "nbconvert_exporter": "python",
   "pygments_lexer": "ipython3",
   "version": "3.12.5"
  }
 },
 "nbformat": 4,
 "nbformat_minor": 2
}
