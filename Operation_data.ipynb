{
 "cells": [
  {
   "cell_type": "markdown",
   "metadata": {},
   "source": [
    "# Nordic Exchange Oslo 1st Data Extraction "
   ]
  },
  {
   "cell_type": "code",
   "execution_count": 11,
   "metadata": {},
   "outputs": [
    {
     "name": "stdout",
     "output_type": "stream",
     "text": [
      "Antall rader før rensing: 318\n",
      "Antall rader etter filtrering (kun Ordinary Shares): 307\n",
      "Antall rader etter fjerning av duplikater: 304\n",
      "Det rensede datasettet er lagret som /Users/k.a.h/Desktop/OsloExchange_PrimaryCleaned.xlsx\n"
     ]
    }
   ],
   "source": [
    "import pandas as pd\n",
    "\n",
    "# Sett inn filbanen til datasettet ditt\n",
    "file_path = \"/Users/k.a.h/Desktop/MasterData/OsloExchange_Primary1.xlsx\"  # Oppdater for andre land\n",
    "\n",
    "# Les inn Excel-filen\n",
    "df = pd.read_excel(file_path)\n",
    "\n",
    "# Filtrer for selskaper med \"Ordinary Shares\" i \"Type of Equity\"\n",
    "df_filtered = df[df['Type of Equity'] == 'Ordinary Share']\n",
    "\n",
    "# Fjern selskaper uten verdi i \"Market Cap (USD)\" eller med \"--\"\n",
    "df_filtered = df_filtered[df_filtered['Market Cap (USD)'] != \"--\"]  # Fjern rader med \"--\"\n",
    "df_filtered = df_filtered.dropna(subset=['Market Cap (USD)'])  # Fjern rader med NaN i \"Market Cap (USD)\"\n",
    "\n",
    "# Fjern duplikater basert på \"Issuer\", behold kun første forekomst\n",
    "df_cleaned = df_filtered.drop_duplicates(subset=['Issuer'], keep='first')\n",
    "\n",
    "# Sjekk antall rader før og etter rensing\n",
    "print(f\"Antall rader før rensing: {len(df)}\")\n",
    "print(f\"Antall rader etter filtrering (kun Ordinary Shares): {len(df_filtered)}\")\n",
    "print(f\"Antall rader etter fjerning av duplikater: {len(df_cleaned)}\")\n",
    "\n",
    "# Lagre det rensede datasettet\n",
    "output_path = \"/Users/k.a.h/Desktop/OsloExchange_PrimaryCleaned.xlsx\"  # Endre filnavn for andre land\n",
    "df_cleaned.to_excel(output_path, index=False, sheet_name=\"Cleaned Data\")\n",
    "\n",
    "print(f\"Det rensede datasettet er lagret som {output_path}\")\n"
   ]
  },
  {
   "cell_type": "markdown",
   "metadata": {},
   "source": [
    "# Nordic Exchange Stockholm 1st Data Extraction "
   ]
  },
  {
   "cell_type": "code",
   "execution_count": 12,
   "metadata": {},
   "outputs": [
    {
     "name": "stdout",
     "output_type": "stream",
     "text": [
      "Antall rader før rensing: 769\n",
      "Antall rader etter filtrering (kun Ordinary Shares): 759\n",
      "Antall rader etter fjerning av duplikater: 717\n",
      "Det rensede datasettet er lagret som /Users/k.a.h/Desktop/StockholmExchange_PrimaryCleaned.xlsx\n"
     ]
    }
   ],
   "source": [
    "#Sverige\n",
    "\n",
    "import pandas as pd\n",
    "\n",
    "# Sett inn filbanen til datasettet ditt\n",
    "file_path = \"/Users/k.a.h/Desktop/MasterData/StockholmExchange_Primary1.xlsx\"  # Oppdater for andre land\n",
    "\n",
    "# Les inn Excel-filen\n",
    "df = pd.read_excel(file_path)\n",
    "\n",
    "# Filtrer for selskaper med \"Ordinary Shares\" i \"Type of Equity\"\n",
    "df_filtered = df[df['Type of Equity'] == 'Ordinary Share']\n",
    "\n",
    "# Fjern selskaper uten verdi i \"Market Cap (USD)\" eller med \"--\"\n",
    "df_filtered = df_filtered[df_filtered['Market Cap (USD)'] != \"--\"]  # Fjern rader med \"--\"\n",
    "df_filtered = df_filtered.dropna(subset=['Market Cap (USD)'])  # Fjern rader med NaN i \"Market Cap (USD)\"\n",
    "\n",
    "# Fjern duplikater basert på \"Issuer\", behold kun første forekomst\n",
    "df_cleaned = df_filtered.drop_duplicates(subset=['Issuer'], keep='first')\n",
    "\n",
    "# Sjekk antall rader før og etter rensing\n",
    "print(f\"Antall rader før rensing: {len(df)}\")\n",
    "print(f\"Antall rader etter filtrering (kun Ordinary Shares): {len(df_filtered)}\")\n",
    "print(f\"Antall rader etter fjerning av duplikater: {len(df_cleaned)}\")\n",
    "\n",
    "# Lagre det rensede datasettet\n",
    "output_path = \"/Users/k.a.h/Desktop/StockholmExchange_PrimaryCleaned.xlsx\"  # Endre filnavn for andre land\n",
    "df_cleaned.to_excel(output_path, index=False, sheet_name=\"Cleaned Data\")\n",
    "\n",
    "print(f\"Det rensede datasettet er lagret som {output_path}\")\n"
   ]
  },
  {
   "cell_type": "markdown",
   "metadata": {},
   "source": [
    "# Nordic Exchange Helsinki 1st Data Extraction "
   ]
  },
  {
   "cell_type": "code",
   "execution_count": 13,
   "metadata": {},
   "outputs": [
    {
     "name": "stdout",
     "output_type": "stream",
     "text": [
      "Antall rader før rensing: 190\n",
      "Antall rader etter filtrering (kun Ordinary Shares): 185\n",
      "Antall rader etter fjerning av duplikater: 175\n",
      "Det rensede datasettet er lagret som /Users/k.a.h/Desktop/HelsinkiExchange_PrimaryCleaned.xlsx\n"
     ]
    }
   ],
   "source": [
    "#Finland \n",
    "\n",
    "import pandas as pd\n",
    "\n",
    "# Sett inn filbanen til datasettet ditt\n",
    "file_path = \"/Users/k.a.h/Desktop/MasterData/HelsinkiExchange_Primary1.xlsx\"  # Oppdater for andre land\n",
    "\n",
    "# Les inn Excel-filen\n",
    "df = pd.read_excel(file_path)\n",
    "\n",
    "# Filtrer for selskaper med \"Ordinary Shares\" i \"Type of Equity\"\n",
    "df_filtered = df[df['Type of Equity'] == 'Ordinary Share']\n",
    "\n",
    "# Fjern selskaper uten verdi i \"Market Cap (USD)\" eller med \"--\"\n",
    "df_filtered = df_filtered[df_filtered['Market Cap (USD)'] != \"--\"]  # Fjern rader med \"--\"\n",
    "df_filtered = df_filtered.dropna(subset=['Market Cap (USD)'])  # Fjern rader med NaN i \"Market Cap (USD)\"\n",
    "\n",
    "# Fjern duplikater basert på \"Issuer\", behold kun første forekomst\n",
    "df_cleaned = df_filtered.drop_duplicates(subset=['Issuer'], keep='first')\n",
    "\n",
    "# Sjekk antall rader før og etter rensing\n",
    "print(f\"Antall rader før rensing: {len(df)}\")\n",
    "print(f\"Antall rader etter filtrering (kun Ordinary Shares): {len(df_filtered)}\")\n",
    "print(f\"Antall rader etter fjerning av duplikater: {len(df_cleaned)}\")\n",
    "\n",
    "# Lagre det rensede datasettet\n",
    "output_path = \"/Users/k.a.h/Desktop/HelsinkiExchange_PrimaryCleaned.xlsx\"  # Endre filnavn for andre land\n",
    "df_cleaned.to_excel(output_path, index=False, sheet_name=\"Cleaned Data\")\n",
    "\n",
    "print(f\"Det rensede datasettet er lagret som {output_path}\")\n"
   ]
  },
  {
   "cell_type": "markdown",
   "metadata": {},
   "source": [
    "# Nordic Exchange Copenhagen 1st Data Extraction \n"
   ]
  },
  {
   "cell_type": "code",
   "execution_count": 15,
   "metadata": {},
   "outputs": [
    {
     "name": "stdout",
     "output_type": "stream",
     "text": [
      "Antall rader før rensing: 161\n",
      "Antall rader etter filtrering (kun Ordinary Shares): 157\n",
      "Antall rader etter fjerning av duplikater: 152\n",
      "Det rensede datasettet er lagret som /Users/k.a.h/Desktop/CopenhagenExchange_PrimaryCleaned.xlsx\n"
     ]
    }
   ],
   "source": [
    "\n",
    "\n",
    "import pandas as pd\n",
    "\n",
    "# Sett inn filbanen til datasettet ditt\n",
    "file_path = \"/Users/k.a.h/Desktop/MasterData/CopenhagenExchange_Primary1.xlsx\"  # Oppdater for andre land\n",
    "\n",
    "# Les inn Excel-filen\n",
    "df = pd.read_excel(file_path)\n",
    "\n",
    "# Filtrer for selskaper med \"Ordinary Shares\" i \"Type of Equity\"\n",
    "df_filtered = df[df['Type of Equity'] == 'Ordinary Share']\n",
    "\n",
    "# Fjern selskaper uten verdi i \"Market Cap (USD)\" eller med \"--\"\n",
    "df_filtered = df_filtered[df_filtered['Market Cap (USD)'] != \"--\"]  # Fjern rader med \"--\"\n",
    "df_filtered = df_filtered.dropna(subset=['Market Cap (USD)'])  # Fjern rader med NaN i \"Market Cap (USD)\"\n",
    "\n",
    "# Fjern duplikater basert på \"Issuer\", behold kun første forekomst\n",
    "df_cleaned = df_filtered.drop_duplicates(subset=['Issuer'], keep='first')\n",
    "\n",
    "# Sjekk antall rader før og etter rensing\n",
    "print(f\"Antall rader før rensing: {len(df)}\")\n",
    "print(f\"Antall rader etter filtrering (kun Ordinary Shares): {len(df_filtered)}\")\n",
    "print(f\"Antall rader etter fjerning av duplikater: {len(df_cleaned)}\")\n",
    "\n",
    "# Lagre det rensede datasettet\n",
    "output_path = \"/Users/k.a.h/Desktop/CopenhagenExchange_PrimaryCleaned.xlsx\"  # Endre filnavn for andre land\n",
    "df_cleaned.to_excel(output_path, index=False, sheet_name=\"Cleaned Data\")\n",
    "\n",
    "print(f\"Det rensede datasettet er lagret som {output_path}\")\n"
   ]
  }
 ],
 "metadata": {
  "kernelspec": {
   "display_name": "Python 3",
   "language": "python",
   "name": "python3"
  },
  "language_info": {
   "codemirror_mode": {
    "name": "ipython",
    "version": 3
   },
   "file_extension": ".py",
   "mimetype": "text/x-python",
   "name": "python",
   "nbconvert_exporter": "python",
   "pygments_lexer": "ipython3",
   "version": "3.12.5"
  }
 },
 "nbformat": 4,
 "nbformat_minor": 2
}
