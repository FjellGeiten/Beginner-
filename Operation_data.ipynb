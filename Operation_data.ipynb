{
 "cells": [
  {
   "cell_type": "code",
   "execution_count": 6,
   "metadata": {},
   "outputs": [
    {
     "name": "stdout",
     "output_type": "stream",
     "text": [
      "        Dato  ERICb.ST  VOLVb.ST  ATCOb.ST  SAND.ST  HMb.ST\n",
      "0 1990-12-31     39549     90972       NaN      NaN     NaN\n",
      "1 1991-12-31     45702     83185       NaN      NaN     NaN\n",
      "2 1992-12-31     45793     77223       NaN      NaN     NaN\n",
      "3 1993-12-31     47020     83002       NaN      NaN     NaN\n",
      "4 1994-12-31     62954    111155       NaN      NaN     NaN\n",
      "<DatetimeArray>\n",
      "['1990-12-31 00:00:00', '1991-12-31 00:00:00', '1992-12-31 00:00:00',\n",
      " '1993-12-31 00:00:00', '1994-12-31 00:00:00', '1995-12-31 00:00:00',\n",
      " '1996-12-31 00:00:00', '1997-12-31 00:00:00', '1998-12-31 00:00:00',\n",
      " '1999-12-31 00:00:00', '2000-12-31 00:00:00', '2001-12-31 00:00:00',\n",
      " '2002-12-31 00:00:00', '2003-12-31 00:00:00', '2004-12-31 00:00:00',\n",
      " '2005-12-31 00:00:00', '2006-12-31 00:00:00', '2007-12-31 00:00:00',\n",
      " '2008-12-31 00:00:00', '2009-12-31 00:00:00', '2010-12-31 00:00:00',\n",
      " '2011-12-31 00:00:00', '2012-12-31 00:00:00', '2013-12-31 00:00:00',\n",
      " '2014-12-31 00:00:00', '2015-12-31 00:00:00', '2016-12-31 00:00:00',\n",
      " '2017-12-31 00:00:00', '2018-12-31 00:00:00', '2019-12-31 00:00:00',\n",
      " '2020-12-31 00:00:00', '2021-12-31 00:00:00', '2022-12-31 00:00:00',\n",
      " '2023-12-31 00:00:00']\n",
      "Length: 34, dtype: datetime64[ns]\n",
      "Maks verdi: 473479\n",
      "Min verdi: 77223\n"
     ]
    }
   ],
   "source": [
    "import pandas as pd\n",
    "\n",
    "# Les inn Excel-filen\n",
    "file_path = \"/Users/k.a.h/Master/Turbo-Autist-1/Refinitiv/Factors/Revenue.xlsx\"\n",
    "df = pd.read_excel(file_path)\n",
    "\n",
    "# Se på de første radene i DataFrame\n",
    "print(df.head())\n",
    "# Sjekk unike verdier i en kolonne, f.eks. \"Dato\"\n",
    "print(df[\"Dato\"].unique())\n",
    "\n",
    "# Sjekk maksimale og minimale verdier for en numerisk kolonne\n",
    "print(\"Maks verdi:\", df[\"VOLVb.ST\"].max())\n",
    "print(\"Min verdi:\", df[\"VOLVb.ST\"].min())\n"
   ]
  }
 ],
 "metadata": {
  "kernelspec": {
   "display_name": "Python 3",
   "language": "python",
   "name": "python3"
  },
  "language_info": {
   "codemirror_mode": {
    "name": "ipython",
    "version": 3
   },
   "file_extension": ".py",
   "mimetype": "text/x-python",
   "name": "python",
   "nbconvert_exporter": "python",
   "pygments_lexer": "ipython3",
   "version": "3.12.5"
  }
 },
 "nbformat": 4,
 "nbformat_minor": 2
}
